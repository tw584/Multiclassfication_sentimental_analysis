{
 "cells": [
  {
   "cell_type": "code",
   "execution_count": 2,
   "metadata": {
    "_cell_guid": "b1076dfc-b9ad-4769-8c92-a6c4dae69d19",
    "_uuid": "8f2839f25d086af736a60e9eeb907d3b93b6e0e5",
    "execution": {
     "iopub.execute_input": "2024-12-08T03:10:53.448623Z",
     "iopub.status.busy": "2024-12-08T03:10:53.448200Z",
     "iopub.status.idle": "2024-12-08T03:10:57.193698Z",
     "shell.execute_reply": "2024-12-08T03:10:57.192789Z",
     "shell.execute_reply.started": "2024-12-08T03:10:53.448589Z"
    },
    "trusted": true
   },
   "outputs": [],
   "source": [
    "# Load Packages\n",
    "import os\n",
    "import pandas as pd\n",
    "import numpy as np\n",
    "import torch\n",
    "# Load Dataset\n",
    "train = pd.read_csv(\"/kaggle/input/cs-3780-5780-how-do-you-feel/train.csv\")\n",
    "train_text = train[\"text\"]\n",
    "train_label = train[\"label\"]\n",
    "\n",
    "test = pd.read_csv(\"/kaggle/input/cs-3780-5780-how-do-you-feel/test.csv\")\n",
    "test_id = test[\"id\"]\n",
    "test_text = test[\"text\"]"
   ]
  },
  {
   "cell_type": "code",
   "execution_count": 3,
   "metadata": {
    "execution": {
     "iopub.execute_input": "2024-12-08T03:11:00.903825Z",
     "iopub.status.busy": "2024-12-08T03:11:00.903388Z",
     "iopub.status.idle": "2024-12-08T03:11:00.921437Z",
     "shell.execute_reply": "2024-12-08T03:11:00.920084Z",
     "shell.execute_reply.started": "2024-12-08T03:11:00.903786Z"
    },
    "trusted": true
   },
   "outputs": [
    {
     "name": "stdout",
     "output_type": "stream",
     "text": [
      "<bound method NDFrame.head of           id                                               text\n",
      "0          0             im feeling like a hot potato right now\n",
      "1          1  i feel that are becoming impressed upon my lit...\n",
      "2          2  id ever held any girls hand but boy did i sure...\n",
      "3          3  i feel thats when i feel my grief over the bra...\n",
      "4          4  i feel will never been resolved in a way to ke...\n",
      "...      ...                                                ...\n",
      "14995  14995  i feel greedy in that im looking forward to th...\n",
      "14996  14996                                 i was feeling cold\n",
      "14997  14997  Yeah deffo seen mom do that trick with a Hotdo...\n",
      "14998  14998                       i go to bed feeling defeated\n",
      "14999  14999  i have gained more confidence within myself as...\n",
      "\n",
      "[15000 rows x 2 columns]>\n"
     ]
    }
   ],
   "source": [
    "print(test.head)"
   ]
  },
  {
   "cell_type": "code",
   "execution_count": 4,
   "metadata": {
    "execution": {
     "iopub.execute_input": "2024-12-08T03:11:05.150637Z",
     "iopub.status.busy": "2024-12-08T03:11:05.150183Z",
     "iopub.status.idle": "2024-12-08T03:11:20.816129Z",
     "shell.execute_reply": "2024-12-08T03:11:20.814991Z",
     "shell.execute_reply.started": "2024-12-08T03:11:05.150599Z"
    },
    "trusted": true
   },
   "outputs": [],
   "source": [
    "from sklearn.feature_extraction.text import CountVectorizer\n",
    "from sklearn.model_selection import train_test_split\n",
    "from tensorflow.keras.preprocessing.sequence import pad_sequences\n",
    "from tensorflow.keras.utils import to_categorical\n",
    "from sklearn.feature_extraction.text import TfidfVectorizer\n",
    "\n",
    "text_col = \"text\"  # Replace with the actual column name for text\n",
    "label_col = \"label\"  # Replace with the actual column name for labels in training data\n",
    "\n",
    "# Step 1: Preprocess data (if needed)\n",
    "# Example: Lowercase the text\n",
    "train[text_col] = train[text_col].str.lower()\n",
    "test[text_col] = test[text_col].str.lower()\n",
    "\n",
    "y_train = to_categorical(train_label, num_classes=28)"
   ]
  },
  {
   "cell_type": "code",
   "execution_count": 5,
   "metadata": {
    "execution": {
     "iopub.execute_input": "2024-12-08T03:11:27.702901Z",
     "iopub.status.busy": "2024-12-08T03:11:27.702203Z",
     "iopub.status.idle": "2024-12-08T03:11:28.704305Z",
     "shell.execute_reply": "2024-12-08T03:11:28.703136Z",
     "shell.execute_reply.started": "2024-12-08T03:11:27.702860Z"
    },
    "trusted": true
   },
   "outputs": [],
   "source": [
    "# Bag-of-Words Vectorization\n",
    "vectorizer = CountVectorizer(max_features=5000)\n",
    "X_train = vectorizer.fit_transform(train[text_col]).toarray()\n",
    "X_test = vectorizer.transform(test[text_col]).toarray()"
   ]
  },
  {
   "cell_type": "code",
   "execution_count": 6,
   "metadata": {
    "execution": {
     "iopub.execute_input": "2024-12-08T03:11:30.753548Z",
     "iopub.status.busy": "2024-12-08T03:11:30.752583Z",
     "iopub.status.idle": "2024-12-08T03:11:30.983748Z",
     "shell.execute_reply": "2024-12-08T03:11:30.982641Z",
     "shell.execute_reply.started": "2024-12-08T03:11:30.753508Z"
    },
    "trusted": true
   },
   "outputs": [],
   "source": [
    "y_train = train[label_col]\n",
    "\n",
    "X_train_split, X_val_split, y_train_split, y_val_split = train_test_split(\n",
    "    X_train, y_train, test_size=0.3, random_state=42  # 30% validation set\n",
    ")\n",
    "\n",
    "# One-hot encode the labels\n",
    "y_train_split = to_categorical(y_train_split, num_classes=28)\n",
    "y_val_split = to_categorical(y_val_split, num_classes=28)\n"
   ]
  },
  {
   "cell_type": "markdown",
   "metadata": {},
   "source": [
    "Build the CNN Model"
   ]
  },
  {
   "cell_type": "code",
   "execution_count": 7,
   "metadata": {
    "execution": {
     "iopub.execute_input": "2024-12-08T03:11:34.364735Z",
     "iopub.status.busy": "2024-12-08T03:11:34.364306Z",
     "iopub.status.idle": "2024-12-08T03:11:34.475976Z",
     "shell.execute_reply": "2024-12-08T03:11:34.474064Z",
     "shell.execute_reply.started": "2024-12-08T03:11:34.364697Z"
    },
    "trusted": true
   },
   "outputs": [
    {
     "data": {
      "text/html": [
       "<pre style=\"white-space:pre;overflow-x:auto;line-height:normal;font-family:Menlo,'DejaVu Sans Mono',consolas,'Courier New',monospace\"><span style=\"font-weight: bold\">Model: \"sequential\"</span>\n",
       "</pre>\n"
      ],
      "text/plain": [
       "\u001b[1mModel: \"sequential\"\u001b[0m\n"
      ]
     },
     "metadata": {},
     "output_type": "display_data"
    },
    {
     "data": {
      "text/html": [
       "<pre style=\"white-space:pre;overflow-x:auto;line-height:normal;font-family:Menlo,'DejaVu Sans Mono',consolas,'Courier New',monospace\">┏━━━━━━━━━━━━━━━━━━━━━━━━━━━━━━━━━┳━━━━━━━━━━━━━━━━━━━━━━━━┳━━━━━━━━━━━━━━━┓\n",
       "┃<span style=\"font-weight: bold\"> Layer (type)                    </span>┃<span style=\"font-weight: bold\"> Output Shape           </span>┃<span style=\"font-weight: bold\">       Param # </span>┃\n",
       "┡━━━━━━━━━━━━━━━━━━━━━━━━━━━━━━━━━╇━━━━━━━━━━━━━━━━━━━━━━━━╇━━━━━━━━━━━━━━━┩\n",
       "│ embedding (<span style=\"color: #0087ff; text-decoration-color: #0087ff\">Embedding</span>)           │ ?                      │   <span style=\"color: #00af00; text-decoration-color: #00af00\">0</span> (unbuilt) │\n",
       "├─────────────────────────────────┼────────────────────────┼───────────────┤\n",
       "│ conv1d (<span style=\"color: #0087ff; text-decoration-color: #0087ff\">Conv1D</span>)                 │ ?                      │   <span style=\"color: #00af00; text-decoration-color: #00af00\">0</span> (unbuilt) │\n",
       "├─────────────────────────────────┼────────────────────────┼───────────────┤\n",
       "│ max_pooling1d (<span style=\"color: #0087ff; text-decoration-color: #0087ff\">MaxPooling1D</span>)    │ ?                      │   <span style=\"color: #00af00; text-decoration-color: #00af00\">0</span> (unbuilt) │\n",
       "├─────────────────────────────────┼────────────────────────┼───────────────┤\n",
       "│ flatten (<span style=\"color: #0087ff; text-decoration-color: #0087ff\">Flatten</span>)               │ ?                      │   <span style=\"color: #00af00; text-decoration-color: #00af00\">0</span> (unbuilt) │\n",
       "├─────────────────────────────────┼────────────────────────┼───────────────┤\n",
       "│ dense (<span style=\"color: #0087ff; text-decoration-color: #0087ff\">Dense</span>)                   │ ?                      │   <span style=\"color: #00af00; text-decoration-color: #00af00\">0</span> (unbuilt) │\n",
       "├─────────────────────────────────┼────────────────────────┼───────────────┤\n",
       "│ dropout (<span style=\"color: #0087ff; text-decoration-color: #0087ff\">Dropout</span>)               │ ?                      │   <span style=\"color: #00af00; text-decoration-color: #00af00\">0</span> (unbuilt) │\n",
       "├─────────────────────────────────┼────────────────────────┼───────────────┤\n",
       "│ dense_1 (<span style=\"color: #0087ff; text-decoration-color: #0087ff\">Dense</span>)                 │ ?                      │   <span style=\"color: #00af00; text-decoration-color: #00af00\">0</span> (unbuilt) │\n",
       "└─────────────────────────────────┴────────────────────────┴───────────────┘\n",
       "</pre>\n"
      ],
      "text/plain": [
       "┏━━━━━━━━━━━━━━━━━━━━━━━━━━━━━━━━━┳━━━━━━━━━━━━━━━━━━━━━━━━┳━━━━━━━━━━━━━━━┓\n",
       "┃\u001b[1m \u001b[0m\u001b[1mLayer (type)                   \u001b[0m\u001b[1m \u001b[0m┃\u001b[1m \u001b[0m\u001b[1mOutput Shape          \u001b[0m\u001b[1m \u001b[0m┃\u001b[1m \u001b[0m\u001b[1m      Param #\u001b[0m\u001b[1m \u001b[0m┃\n",
       "┡━━━━━━━━━━━━━━━━━━━━━━━━━━━━━━━━━╇━━━━━━━━━━━━━━━━━━━━━━━━╇━━━━━━━━━━━━━━━┩\n",
       "│ embedding (\u001b[38;5;33mEmbedding\u001b[0m)           │ ?                      │   \u001b[38;5;34m0\u001b[0m (unbuilt) │\n",
       "├─────────────────────────────────┼────────────────────────┼───────────────┤\n",
       "│ conv1d (\u001b[38;5;33mConv1D\u001b[0m)                 │ ?                      │   \u001b[38;5;34m0\u001b[0m (unbuilt) │\n",
       "├─────────────────────────────────┼────────────────────────┼───────────────┤\n",
       "│ max_pooling1d (\u001b[38;5;33mMaxPooling1D\u001b[0m)    │ ?                      │   \u001b[38;5;34m0\u001b[0m (unbuilt) │\n",
       "├─────────────────────────────────┼────────────────────────┼───────────────┤\n",
       "│ flatten (\u001b[38;5;33mFlatten\u001b[0m)               │ ?                      │   \u001b[38;5;34m0\u001b[0m (unbuilt) │\n",
       "├─────────────────────────────────┼────────────────────────┼───────────────┤\n",
       "│ dense (\u001b[38;5;33mDense\u001b[0m)                   │ ?                      │   \u001b[38;5;34m0\u001b[0m (unbuilt) │\n",
       "├─────────────────────────────────┼────────────────────────┼───────────────┤\n",
       "│ dropout (\u001b[38;5;33mDropout\u001b[0m)               │ ?                      │   \u001b[38;5;34m0\u001b[0m (unbuilt) │\n",
       "├─────────────────────────────────┼────────────────────────┼───────────────┤\n",
       "│ dense_1 (\u001b[38;5;33mDense\u001b[0m)                 │ ?                      │   \u001b[38;5;34m0\u001b[0m (unbuilt) │\n",
       "└─────────────────────────────────┴────────────────────────┴───────────────┘\n"
      ]
     },
     "metadata": {},
     "output_type": "display_data"
    },
    {
     "data": {
      "text/html": [
       "<pre style=\"white-space:pre;overflow-x:auto;line-height:normal;font-family:Menlo,'DejaVu Sans Mono',consolas,'Courier New',monospace\"><span style=\"font-weight: bold\"> Total params: </span><span style=\"color: #00af00; text-decoration-color: #00af00\">0</span> (0.00 B)\n",
       "</pre>\n"
      ],
      "text/plain": [
       "\u001b[1m Total params: \u001b[0m\u001b[38;5;34m0\u001b[0m (0.00 B)\n"
      ]
     },
     "metadata": {},
     "output_type": "display_data"
    },
    {
     "data": {
      "text/html": [
       "<pre style=\"white-space:pre;overflow-x:auto;line-height:normal;font-family:Menlo,'DejaVu Sans Mono',consolas,'Courier New',monospace\"><span style=\"font-weight: bold\"> Trainable params: </span><span style=\"color: #00af00; text-decoration-color: #00af00\">0</span> (0.00 B)\n",
       "</pre>\n"
      ],
      "text/plain": [
       "\u001b[1m Trainable params: \u001b[0m\u001b[38;5;34m0\u001b[0m (0.00 B)\n"
      ]
     },
     "metadata": {},
     "output_type": "display_data"
    },
    {
     "data": {
      "text/html": [
       "<pre style=\"white-space:pre;overflow-x:auto;line-height:normal;font-family:Menlo,'DejaVu Sans Mono',consolas,'Courier New',monospace\"><span style=\"font-weight: bold\"> Non-trainable params: </span><span style=\"color: #00af00; text-decoration-color: #00af00\">0</span> (0.00 B)\n",
       "</pre>\n"
      ],
      "text/plain": [
       "\u001b[1m Non-trainable params: \u001b[0m\u001b[38;5;34m0\u001b[0m (0.00 B)\n"
      ]
     },
     "metadata": {},
     "output_type": "display_data"
    }
   ],
   "source": [
    "from tensorflow.keras.models import Sequential\n",
    "from tensorflow.keras.layers import Conv1D, MaxPooling1D, Flatten, Dense, Embedding, Dropout\n",
    "from tensorflow.keras.optimizers import Adam\n",
    "\n",
    "model = Sequential()\n",
    "# Embedding layer \n",
    "model.add(Embedding(input_dim=5000, output_dim=128)) \n",
    "# 1D Convolutional layer\n",
    "model.add(Conv1D(filters=64, kernel_size=3, activation='relu'))\n",
    "# MaxPooling layer to down-sample the feature maps\n",
    "model.add(MaxPooling1D(pool_size=2))\n",
    "\n",
    "# Flatten the feature maps to 1D\n",
    "model.add(Flatten())\n",
    "# Fully connected layer\n",
    "model.add(Dense(128, activation='relu'))\n",
    "model.add(Dropout(0.5))  # Dropout to avoid overfitting\n",
    "\n",
    "# Output layer (28 classes for emotion classification)\n",
    "model.add(Dense(28, activation='softmax'))# Compile the model\n",
    "optimizer= Adam(learning_rate=0.001)\n",
    "model.compile(optimizer=optimizer, loss='categorical_crossentropy', metrics=['accuracy'])\n",
    "\n",
    "# Summary of the model\n",
    "model.summary()"
   ]
  },
  {
   "cell_type": "markdown",
   "metadata": {},
   "source": [
    "Train the model with the training data"
   ]
  },
  {
   "cell_type": "code",
   "execution_count": 8,
   "metadata": {
    "execution": {
     "iopub.execute_input": "2024-12-08T03:11:37.952865Z",
     "iopub.status.busy": "2024-12-08T03:11:37.952171Z",
     "iopub.status.idle": "2024-12-08T03:28:55.551757Z",
     "shell.execute_reply": "2024-12-08T03:28:55.550553Z",
     "shell.execute_reply.started": "2024-12-08T03:11:37.952813Z"
    },
    "trusted": true
   },
   "outputs": [
    {
     "name": "stdout",
     "output_type": "stream",
     "text": [
      "Epoch 1/7\n",
      "\u001b[1m103/103\u001b[0m \u001b[32m━━━━━━━━━━━━━━━━━━━━\u001b[0m\u001b[37m\u001b[0m \u001b[1m144s\u001b[0m 1s/step - accuracy: 0.1968 - loss: 3.0269 - val_accuracy: 0.5110 - val_loss: 1.6681\n",
      "Epoch 2/7\n",
      "\u001b[1m103/103\u001b[0m \u001b[32m━━━━━━━━━━━━━━━━━━━━\u001b[0m\u001b[37m\u001b[0m \u001b[1m142s\u001b[0m 1s/step - accuracy: 0.5405 - loss: 1.5298 - val_accuracy: 0.6407 - val_loss: 1.3061\n",
      "Epoch 3/7\n",
      "\u001b[1m103/103\u001b[0m \u001b[32m━━━━━━━━━━━━━━━━━━━━\u001b[0m\u001b[37m\u001b[0m \u001b[1m143s\u001b[0m 1s/step - accuracy: 0.7283 - loss: 0.9389 - val_accuracy: 0.6637 - val_loss: 1.2446\n",
      "Epoch 4/7\n",
      "\u001b[1m103/103\u001b[0m \u001b[32m━━━━━━━━━━━━━━━━━━━━\u001b[0m\u001b[37m\u001b[0m \u001b[1m196s\u001b[0m 1s/step - accuracy: 0.7996 - loss: 0.6788 - val_accuracy: 0.6657 - val_loss: 1.3400\n",
      "Epoch 5/7\n",
      "\u001b[1m103/103\u001b[0m \u001b[32m━━━━━━━━━━━━━━━━━━━━\u001b[0m\u001b[37m\u001b[0m \u001b[1m142s\u001b[0m 1s/step - accuracy: 0.8395 - loss: 0.5157 - val_accuracy: 0.6637 - val_loss: 1.4243\n",
      "Epoch 6/7\n",
      "\u001b[1m103/103\u001b[0m \u001b[32m━━━━━━━━━━━━━━━━━━━━\u001b[0m\u001b[37m\u001b[0m \u001b[1m135s\u001b[0m 1s/step - accuracy: 0.8780 - loss: 0.3971 - val_accuracy: 0.6577 - val_loss: 1.5710\n",
      "Epoch 7/7\n",
      "\u001b[1m103/103\u001b[0m \u001b[32m━━━━━━━━━━━━━━━━━━━━\u001b[0m\u001b[37m\u001b[0m \u001b[1m134s\u001b[0m 1s/step - accuracy: 0.8865 - loss: 0.3784 - val_accuracy: 0.6640 - val_loss: 1.6952\n"
     ]
    }
   ],
   "source": [
    "history = model.fit(\n",
    "    X_train_split,           # Training data\n",
    "    y_train_split,           # Training labels\n",
    "    epochs=7,                # Number of training epochs\n",
    "    batch_size=68,           # Batch size\n",
    "    validation_data=(X_val_split, y_val_split)  # Validation data\n",
    ")"
   ]
  },
  {
   "cell_type": "markdown",
   "metadata": {},
   "source": [
    "For predicting y label"
   ]
  },
  {
   "cell_type": "code",
   "execution_count": 9,
   "metadata": {
    "execution": {
     "iopub.execute_input": "2024-12-08T03:29:39.039215Z",
     "iopub.status.busy": "2024-12-08T03:29:39.038821Z",
     "iopub.status.idle": "2024-12-08T03:30:45.129649Z",
     "shell.execute_reply": "2024-12-08T03:30:45.128371Z",
     "shell.execute_reply.started": "2024-12-08T03:29:39.039184Z"
    },
    "trusted": true
   },
   "outputs": [
    {
     "name": "stdout",
     "output_type": "stream",
     "text": [
      "\u001b[1m469/469\u001b[0m \u001b[32m━━━━━━━━━━━━━━━━━━━━\u001b[0m\u001b[37m\u001b[0m \u001b[1m65s\u001b[0m 138ms/step\n"
     ]
    }
   ],
   "source": [
    "# Predict on the test set (since you don't have labels for the test set)\n",
    "y_pred = model.predict(X_test)\n",
    "\n",
    "# Convert the predictions to class labels (use argmax to get the highest probability class)\n",
    "y_pred_classes = np.argmax(y_pred, axis=1)\n",
    "\n",
    "# Create the DataFrame for submission\n",
    "submission = pd.DataFrame({\n",
    "    'id': test_id,  # Use the 'id' from the test set\n",
    "    'label': y_pred_classes  # The predicted class labels (from your model)\n",
    "})\n",
    "\n",
    "# Save the submission DataFrame as a CSV in the correct location\n",
    "submission.to_csv('/kaggle/working/submission.csv', index=False)"
   ]
  },
  {
   "cell_type": "markdown",
   "metadata": {},
   "source": []
  }
 ],
 "metadata": {
  "kaggle": {
   "accelerator": "none",
   "dataSources": [
    {
     "databundleVersionId": 10240856,
     "sourceId": 88281,
     "sourceType": "competition"
    }
   ],
   "dockerImageVersionId": 30804,
   "isGpuEnabled": false,
   "isInternetEnabled": false,
   "language": "python",
   "sourceType": "notebook"
  },
  "kernelspec": {
   "display_name": "Python 3",
   "language": "python",
   "name": "python3"
  },
  "language_info": {
   "codemirror_mode": {
    "name": "ipython",
    "version": 3
   },
   "file_extension": ".py",
   "mimetype": "text/x-python",
   "name": "python",
   "nbconvert_exporter": "python",
   "pygments_lexer": "ipython3",
   "version": "3.10.14"
  }
 },
 "nbformat": 4,
 "nbformat_minor": 4
}
